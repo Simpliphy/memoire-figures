{
 "cells": [
  {
   "cell_type": "markdown",
   "metadata": {},
   "source": [
    "Ce notebook sert à introduire la programmation python et donner un exemple de calcul de fonction de Green numérique. \n",
    "L'entête de la majorité des code est composé de l'importation des librairies nécessaire pour son exécution.\n",
    "\n",
    "Pour exécuter l'ensemble du notebook, l'utlisation peut cliquer sur kernel-->restart and run all. Pour exécuter les cellules une à une, l'utilisation peut utilisé la commande du clavier shift+enter après avoir sélectionner la cellule à exécuter. "
   ]
  },
  {
   "cell_type": "code",
   "execution_count": 1,
   "metadata": {
    "collapsed": false
   },
   "outputs": [
    {
     "name": "stderr",
     "output_type": "stream",
     "text": [
      "/home/boul2031/anaconda2/lib/python2.7/site-packages/matplotlib/font_manager.py:273: UserWarning: Matplotlib is building the font cache using fc-list. This may take a moment.\n",
      "  warnings.warn('Matplotlib is building the font cache using fc-list. This may take a moment.')\n"
     ]
    }
   ],
   "source": [
    "import numpy as np\n",
    "import matplotlib.pyplot as plt"
   ]
  },
  {
   "cell_type": "markdown",
   "metadata": {},
   "source": [
    "La deuxième partie contient les déclarations. Nous allons attribuer des valeurs numériques aux paramètres de l'Hamiltonien. Ceux-ci peuvent être changés par l'utilisatieur pour observer leur impact. On retouve également des \"arrays\" de la librairie numpy qui sont une structure de donné de type matrice. "
   ]
  },
  {
   "cell_type": "code",
   "execution_count": 2,
   "metadata": {
    "collapsed": true
   },
   "outputs": [],
   "source": [
    "E1 = -0.25\n",
    "E2 = 0.25\n",
    "t = 0.5\n",
    "eta1 = 0.01\n",
    "eta2 = 0.05\n",
    "eta3 = 0.1\n",
    "H = np.array([[E1, -t],[-t, E2]])"
   ]
  },
  {
   "cell_type": "code",
   "execution_count": 3,
   "metadata": {
    "collapsed": false
   },
   "outputs": [],
   "source": [
    "Energies = np.linspace(-1,1,201)\n",
    "GreenFunction = np.zeros([201,2,2], dtype = \"complex128\")\n",
    "A_spectraleFunction = np.zeros([201,2,2],dtype = \"complex128\")\n",
    "LocalDensityOfStates1 = np.zeros([201])\n",
    "LocalDensityOfStates2 = np.zeros([201])\n",
    "LocalDensityOfStates3 = np.zeros([201])"
   ]
  },
  {
   "cell_type": "markdown",
   "metadata": {},
   "source": [
    "Dans la section suivante, nous calculons les fonctions de Green, fonctions spectrales et la densité locale d'état pour chaque élément du maillage du domaine de l'énergie. La boucle \"for\" itère sur les éléments du maillage. Pour chaque valeur, de l'énergie, une matrice 2x2 (dimension de l'Hamiltonien) est inversée pour obtenir la fonction de Green."
   ]
  },
  {
   "cell_type": "code",
   "execution_count": 4,
   "metadata": {
    "collapsed": false
   },
   "outputs": [
    {
     "name": "stderr",
     "output_type": "stream",
     "text": [
      "/home/boul2031/anaconda2/lib/python2.7/site-packages/ipykernel/__main__.py:6: ComplexWarning: Casting complex values to real discards the imaginary part\n",
      "/home/boul2031/anaconda2/lib/python2.7/site-packages/ipykernel/__main__.py:10: ComplexWarning: Casting complex values to real discards the imaginary part\n",
      "/home/boul2031/anaconda2/lib/python2.7/site-packages/ipykernel/__main__.py:14: ComplexWarning: Casting complex values to real discards the imaginary part\n"
     ]
    }
   ],
   "source": [
    "ii = 0\n",
    "for E in Energies: \n",
    "    \n",
    "    GreenFunction[ii] = np.linalg.inv( (E + 1j*eta1)*np.identity(2) - H  )\n",
    "    A_spectraleFunction[ii] = 1j*(     GreenFunction[ii] - np.conj(np.transpose(GreenFunction[ii])) )  \n",
    "    LocalDensityOfStates1[ii] =  A_spectraleFunction[ii,0,0]\n",
    "    \n",
    "    GreenFunction[ii] = np.linalg.inv( (E + 1j*eta2)*np.identity(2) - H  )\n",
    "    A_spectraleFunction[ii] = 1j*(     GreenFunction[ii] - np.conj(np.transpose(GreenFunction[ii])) )  \n",
    "    LocalDensityOfStates2[ii] =  A_spectraleFunction[ii,0,0]\n",
    "    \n",
    "    GreenFunction[ii] = np.linalg.inv( (E + 1j*eta3)*np.identity(2) - H  )\n",
    "    A_spectraleFunction[ii] = 1j*(     GreenFunction[ii] - np.conj(np.transpose(GreenFunction[ii])) )  \n",
    "    LocalDensityOfStates3[ii] =  A_spectraleFunction[ii,0,0]\n",
    "    \n",
    "    \n",
    "    ii += 1"
   ]
  },
  {
   "cell_type": "markdown",
   "metadata": {},
   "source": [
    "Les résultats sont finalement affichés"
   ]
  },
  {
   "cell_type": "code",
   "execution_count": 5,
   "metadata": {
    "collapsed": false
   },
   "outputs": [],
   "source": [
    "plt.figure()\n",
    "ax = plt.subplot(111)\n",
    "\n",
    "\n",
    "ax.plot(Energies,LocalDensityOfStates1, \"-ro\",label = \"$ \\eta $  = 0.01\")\n",
    "ax.plot(Energies,LocalDensityOfStates2, \"-bo\",label = \"$ \\eta $  = 0.05\")\n",
    "ax.plot(Energies,LocalDensityOfStates3, \"-go\",label = \"$ \\eta $  = 0.1\")\n",
    "\n",
    "plt.xlabel( \"Energie\",fontsize=20 )\n",
    "plt.ylabel(\"$A_{11}$\",rotation=0,fontsize=20)\n",
    "plt.title( \"Densite d'etat au site 1\" )\n",
    "\n",
    "ax.legend()\n",
    "\n",
    "plt.show()\n",
    "plt.close()"
   ]
  },
  {
   "cell_type": "code",
   "execution_count": 6,
   "metadata": {
    "collapsed": true
   },
   "outputs": [],
   "source": [
    "repertoire_sauvegarde = \"/home/boul2031/Documents/TexteMaitrise/Resultats/\"\n",
    "\n",
    "nom_fichier_sauvegarde_1 = \"DsensiteEtats_eta_0_01.txt\"\n",
    "nom_fichier_sauvegarde_2 = \"DsensiteEtats_eta_0_05.txt\"\n",
    "nom_fichier_sauvegarde_3 = \"DsensiteEtats_eta_0_1.txt\"\n",
    "\n",
    "path_and_name_1 = repertoire_sauvegarde + nom_fichier_sauvegarde_1\n",
    "path_and_name_2 = repertoire_sauvegarde + nom_fichier_sauvegarde_2\n",
    "path_and_name_3 = repertoire_sauvegarde + nom_fichier_sauvegarde_3\n",
    "\n",
    "data1 = np.array([Energies,LocalDensityOfStates1])\n",
    "data2 = np.array([Energies,LocalDensityOfStates2])\n",
    "data3 = np.array([Energies,LocalDensityOfStates3])\n",
    "\n",
    "np.savetxt(path_and_name_1, data1.T, fmt=[\"( %f \", \"%f )\"],delimiter=\", \")\n",
    "np.savetxt(path_and_name_2, data2.T, fmt=[\"( %f \", \"%f )\"],delimiter=\", \")\n",
    "np.savetxt(path_and_name_3, data3.T, fmt=[\"( %f \", \"%f )\"],delimiter=\", \")"
   ]
  }
 ],
 "metadata": {
  "kernelspec": {
   "display_name": "Python 2",
   "language": "python",
   "name": "python2"
  },
  "language_info": {
   "codemirror_mode": {
    "name": "ipython",
    "version": 2
   },
   "file_extension": ".py",
   "mimetype": "text/x-python",
   "name": "python",
   "nbconvert_exporter": "python",
   "pygments_lexer": "ipython2",
   "version": "2.7.12"
  }
 },
 "nbformat": 4,
 "nbformat_minor": 0
}
