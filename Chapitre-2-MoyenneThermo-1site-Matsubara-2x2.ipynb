{
 "cells": [
  {
   "cell_type": "markdown",
   "metadata": {},
   "source": [
    "Ce notebook sert à calculer l'occupation moyenne d'un site en fonction de la température. La méthode utilisée est celle des fonctions de Green de Matsubara. \n",
    "\n",
    "L'entête de la majorité des code est composé de l'importation des librairies nécessaire pour son exécution. Pour exécuter l'ensemble du notebook, l'utlisation peut cliquer sur kernel-->restart and run all. Pour exécuter les cellules une à une, l'utilisation peut utilisé la commande du clavier shift+enter après avoir sélectionner la cellule à exécuter. "
   ]
  },
  {
   "cell_type": "code",
   "execution_count": 1,
   "metadata": {
    "collapsed": false
   },
   "outputs": [
    {
     "name": "stderr",
     "output_type": "stream",
     "text": [
      "/home/boul2031/anaconda2/lib/python2.7/site-packages/matplotlib/font_manager.py:273: UserWarning: Matplotlib is building the font cache using fc-list. This may take a moment.\n",
      "  warnings.warn('Matplotlib is building the font cache using fc-list. This may take a moment.')\n"
     ]
    }
   ],
   "source": [
    "import numpy as np\n",
    "from scipy.linalg import expm, sinm, cosm\n",
    "import matplotlib.pyplot as plt"
   ]
  },
  {
   "cell_type": "markdown",
   "metadata": {},
   "source": [
    "La deuxième partie contient les déclaration. Nous allons attribué des valeurs numériques aux paramètres de l'Hamiltonien. Ceux-ci peuvent être changé par l'utilisatieur pour observer leur impact. On retouver également des \"arrays\" de la librairies numpy qui sont une structure de donné de type matrice. "
   ]
  },
  {
   "cell_type": "code",
   "execution_count": 2,
   "metadata": {
    "collapsed": false
   },
   "outputs": [],
   "source": [
    "E1 = -0.25\n",
    "mu = 0\n",
    "\n",
    "H = np.array([[E1 - mu, 0],[0,0]])"
   ]
  },
  {
   "cell_type": "code",
   "execution_count": 3,
   "metadata": {
    "collapsed": false
   },
   "outputs": [],
   "source": [
    "number_of_omega = 1000\n",
    "number_of_T = 100\n",
    "T_max = 1.0\n",
    "\n",
    "TemperatureValues = np.array([ (i+1)*T_max/(number_of_T+0.0) for i in range(number_of_T)])\n",
    "occupation = np.zeros([number_of_T])"
   ]
  },
  {
   "cell_type": "markdown",
   "metadata": {},
   "source": [
    "Dans la section suivante, nous calculons l'occupation des site selon la méthode des fonction de Green de Matsubara."
   ]
  },
  {
   "cell_type": "code",
   "execution_count": 4,
   "metadata": {
    "collapsed": false
   },
   "outputs": [],
   "source": [
    "ii= 0\n",
    "\n",
    "for temperature in TemperatureValues:\n",
    "    \n",
    "    beta = 1.0/temperature\n",
    "    \n",
    "    # Methode Fonctions de Green de Matsubara\n",
    "    # ---------------------------------------\n",
    "    \n",
    "    OmegaValues = np.array([(2*i + 1)*(np.pi/(beta+0.0)) for i in range(number_of_omega)])\n",
    "    \n",
    "    GreenFunction = np.zeros([number_of_omega,2,2], dtype = \"complex128\")\n",
    "    \n",
    "    jj= 0\n",
    "    for omega in OmegaValues: \n",
    "        GreenFunction[jj] = np.linalg.inv( (1j*omega)*np.identity(2) - H  )\n",
    "        jj+= 1\n",
    "        \n",
    "    occupation[ii] = 0.5 + (2.0/beta)*np.sum(GreenFunction[...,0,0].real )\n",
    "  \n",
    "    \n",
    "    ii+= 1\n"
   ]
  },
  {
   "cell_type": "markdown",
   "metadata": {},
   "source": [
    "Les résultats sont finalement affichée"
   ]
  },
  {
   "cell_type": "code",
   "execution_count": 5,
   "metadata": {
    "collapsed": false
   },
   "outputs": [],
   "source": [
    "plt.figure()\n",
    "ax = plt.subplot(111)\n",
    "\n",
    "plt.plot(TemperatureValues,occupation[...], \"-ro\",label = \"<$n_1$> : Matsubara \")\n",
    "\n",
    "plt.xlabel( \"Temperature\", fontsize = 20 )\n",
    "plt.ylabel( \"<$n_i$>\", fontsize = 20, rotation = 0 )\n",
    "plt.title( \"Occupation des sites\" )\n",
    "\n",
    "ax.legend()\n",
    "\n",
    "plt.show()\n",
    "plt.close()"
   ]
  }
 ],
 "metadata": {
  "kernelspec": {
   "display_name": "Python 2",
   "language": "python",
   "name": "python2"
  },
  "language_info": {
   "codemirror_mode": {
    "name": "ipython",
    "version": 2
   },
   "file_extension": ".py",
   "mimetype": "text/x-python",
   "name": "python",
   "nbconvert_exporter": "python",
   "pygments_lexer": "ipython2",
   "version": "2.7.12"
  }
 },
 "nbformat": 4,
 "nbformat_minor": 0
}
