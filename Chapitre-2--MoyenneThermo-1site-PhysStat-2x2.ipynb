{
 "cells": [
  {
   "cell_type": "markdown",
   "metadata": {},
   "source": [
    "Ce notebook sert à effectuer le calcul d'une espérance thermodynamique à l'aide de la méthode \"classique\" en physique statistique. \n",
    "\n",
    "L'entête de la majorité des code est composé de l'importation des librairies nécessaire pour son exécution. Pour exécuter l'ensemble du notebook, l'utlisation peut cliquer sur kernel-->restart and run all. Pour exécuter les cellules une à une, l'utilisation peut utilisé la commande du clavier shift+enter après avoir sélectionner la cellule à exécuter. "
   ]
  },
  {
   "cell_type": "code",
   "execution_count": 1,
   "metadata": {
    "collapsed": false
   },
   "outputs": [
    {
     "name": "stderr",
     "output_type": "stream",
     "text": [
      "/home/boul2031/anaconda2/lib/python2.7/site-packages/matplotlib/font_manager.py:273: UserWarning: Matplotlib is building the font cache using fc-list. This may take a moment.\n",
      "  warnings.warn('Matplotlib is building the font cache using fc-list. This may take a moment.')\n"
     ]
    }
   ],
   "source": [
    "import numpy as np\n",
    "from scipy.linalg import expm, sinm, cosm\n",
    "import matplotlib.pyplot as plt"
   ]
  },
  {
   "cell_type": "markdown",
   "metadata": {},
   "source": [
    "La deuxième partie contient les déclaration. Nous allons attribué des valeurs numériques aux paramètres de l'Hamiltonien. Ceux-ci peuvent être changé par l'utilisatieur pour observer leur impact. On retouver également des \"arrays\" de la librairies numpy qui sont une structure de donné de type matrice. "
   ]
  },
  {
   "cell_type": "code",
   "execution_count": 2,
   "metadata": {
    "collapsed": false
   },
   "outputs": [],
   "source": [
    "E1 = -0.25\n",
    "mu = 0\n",
    "\n",
    "H = np.array([[E1 - mu, 0],[0,0]])\n",
    "observable = np.array([[1, 0],[0,0]])"
   ]
  },
  {
   "cell_type": "code",
   "execution_count": 3,
   "metadata": {
    "collapsed": false
   },
   "outputs": [],
   "source": [
    "number_of_T = 100\n",
    "T_max = 1.0\n",
    "\n",
    "TemperatureValues = np.array([ (i+1)*T_max/(number_of_T+0.0) for i in range(number_of_T)])\n",
    "occupationClassique = np.zeros([number_of_T])"
   ]
  },
  {
   "cell_type": "markdown",
   "metadata": {},
   "source": [
    "Dans la section suivante, nous calculons l'occupation du site selon la physique statistique standard. "
   ]
  },
  {
   "cell_type": "code",
   "execution_count": 4,
   "metadata": {
    "collapsed": false
   },
   "outputs": [],
   "source": [
    "ii= 0\n",
    "\n",
    "for temperature in TemperatureValues:\n",
    "    \n",
    "    beta = 1.0/temperature\n",
    "    \n",
    "    # Methode classique de la physique statistique\n",
    "    # --------------------------------------------\n",
    "    \n",
    "    densityOperator = expm(-beta*H)\n",
    "    \n",
    "    fonctionPartition = np.matrix.trace(densityOperator)\n",
    "    occupationClassique[ii] = np.matrix.trace(np.dot(densityOperator,observable))/fonctionPartition\n",
    "  \n",
    "    \n",
    "    ii+= 1\n"
   ]
  },
  {
   "cell_type": "markdown",
   "metadata": {},
   "source": [
    "Les résultats sont finalement affichée"
   ]
  },
  {
   "cell_type": "code",
   "execution_count": 5,
   "metadata": {
    "collapsed": false
   },
   "outputs": [],
   "source": [
    "plt.figure()\n",
    "ax = plt.subplot(111)\n",
    "\n",
    "plt.plot(TemperatureValues,occupationClassique[...], \"-b*\", label = \"<$n_1$> : Phys. Stat. \")\n",
    "\n",
    "\n",
    "plt.xlabel( \"Temperature\", fontsize = 20 )\n",
    "plt.ylabel( \"<$n_i$>\", fontsize = 20, rotation = 0 )\n",
    "plt.title( \"Occupation du site\" )\n",
    "\n",
    "ax.legend()\n",
    "\n",
    "plt.show()\n",
    "plt.close()"
   ]
  },
  {
   "cell_type": "code",
   "execution_count": null,
   "metadata": {
    "collapsed": true
   },
   "outputs": [],
   "source": []
  }
 ],
 "metadata": {
  "kernelspec": {
   "display_name": "Python 2",
   "language": "python",
   "name": "python2"
  },
  "language_info": {
   "codemirror_mode": {
    "name": "ipython",
    "version": 2
   },
   "file_extension": ".py",
   "mimetype": "text/x-python",
   "name": "python",
   "nbconvert_exporter": "python",
   "pygments_lexer": "ipython2",
   "version": "2.7.12"
  }
 },
 "nbformat": 4,
 "nbformat_minor": 0
}
